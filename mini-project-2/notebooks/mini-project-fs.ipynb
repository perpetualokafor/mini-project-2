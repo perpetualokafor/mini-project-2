{
 "cells": [
  {
   "cell_type": "code",
   "execution_count": 4,
   "id": "0c9b16a9-efa6-4e22-8e04-19ed8f3ff6d7",
   "metadata": {},
   "outputs": [],
   "source": [
    "import uuid\n",
    "from IPython.display import display_javascript, display_html, display\n",
    "import json\n",
    "\n",
    "class RenderJSON(object):\n",
    "    def __init__(self, json_data):\n",
    "        if isinstance(json_data, dict):\n",
    "            self.json_str = json.dumps(json_data)\n",
    "        else:\n",
    "            self.json_str = json_data\n",
    "        self.uuid = str(uuid.uuid4())\n",
    "\n",
    "    def _ipython_display_(self):\n",
    "        display_html('<div id=\"{}\" style=\"height: 600px; width:100%;\"></div>'.format(self.uuid), raw=True)\n",
    "        display_javascript(\"\"\"\n",
    "        require([\"https://rawgit.com/caldwell/renderjson/master/renderjson.js\"], function() {\n",
    "        document.getElementById('%s').appendChild(renderjson(%s))\n",
    "        });\n",
    "        \"\"\" % (self.uuid, self.json_str), raw=True)"
   ]
  },
  {
   "cell_type": "code",
   "execution_count": 5,
   "id": "f98f5ce8-542e-4b8d-a8df-fd0228fd1611",
   "metadata": {},
   "outputs": [],
   "source": [
    "fs_id = \"LI2VHLBCPFJEO1D1O5EMPDXA233B5QP4FGH442ERLK4INCNQ\"\n",
    "fs_s = \"BAFOMI5B3PTIJFL5FVJIB0I4ZBQGXYXFPCAUQWHWT5EI3GWA\""
   ]
  },
  {
   "cell_type": "code",
   "execution_count": 6,
   "id": "d2a96813-d218-437a-bce8-9e572cd95146",
   "metadata": {},
   "outputs": [],
   "source": [
    "import requests\n",
    "import pandas as pd\n",
    "import numpy as np\n",
    "from IPython.display import JSON\n",
    "import json\n",
    "from pandas import json_normalize "
   ]
  },
  {
   "cell_type": "code",
   "execution_count": 7,
   "id": "93e97bb6-2b8c-4c3c-94c0-026c88c7a17b",
   "metadata": {},
   "outputs": [],
   "source": [
    "#foursquare - calgary\n",
    "url = \"https://api.foursquare.com/v2/venues/explore?\"\n",
    "fs_id = \"LI2VHLBCPFJEO1D1O5EMPDXA233B5QP4FGH442ERLK4INCNQ\"\n",
    "fs_s = \"BAFOMI5B3PTIJFL5FVJIB0I4ZBQGXYXFPCAUQWHWT5EI3GWA\"\n",
    "categoryId = \"4bf58dd8d48988d1e0931735,4bf58dd8d48988d16d941735\" #coffee shops + cafes\n",
    "limit = \"50\"\n",
    "offset = \"50\"\n",
    "v = \"20201231\"\n",
    "\n",
    "near = \"Vancouver,BC\"\n",
    "radius = \"16000\" #area of calgary = ~820km^2\n",
    "\n",
    "param = f'near={near}&categoryId={categoryId}&radius={radius}&limit={limit}&sortByPopularity=1&v={v}&client_id={fs_id}&client_secret={fs_s}'\n",
    "res = requests.get(url+param)\n",
    "fs_v = res.json()"
   ]
  },
  {
   "cell_type": "code",
   "execution_count": 8,
   "id": "8c3ab71e-562d-41fa-875f-c82b96231d20",
   "metadata": {},
   "outputs": [],
   "source": [
    "fsv = json_normalize(data=fs_v['response']['groups'],record_path='items')"
   ]
  },
  {
   "cell_type": "code",
   "execution_count": 9,
   "id": "0dff975b-3055-475d-b299-b34b0d114c7d",
   "metadata": {},
   "outputs": [
    {
     "ename": "NameError",
     "evalue": "name 'fs_c' is not defined",
     "output_type": "error",
     "traceback": [
      "\u001b[0;31m---------------------------------------------------------------------------\u001b[0m",
      "\u001b[0;31mNameError\u001b[0m                                 Traceback (most recent call last)",
      "Input \u001b[0;32mIn [9]\u001b[0m, in \u001b[0;36m<cell line: 2>\u001b[0;34m()\u001b[0m\n\u001b[1;32m      1\u001b[0m fs_v\u001b[38;5;241m.\u001b[39mupdate(fs_v\u001b[38;5;241m.\u001b[39mpop(\u001b[38;5;124m\"\u001b[39m\u001b[38;5;124mresponse\u001b[39m\u001b[38;5;124m\"\u001b[39m))\n\u001b[0;32m----> 2\u001b[0m fs_vd \u001b[38;5;241m=\u001b[39m json_normalize(\u001b[43mfs_c\u001b[49m[\u001b[38;5;124m'\u001b[39m\u001b[38;5;124mgroups\u001b[39m\u001b[38;5;124m'\u001b[39m],record_path\u001b[38;5;241m=\u001b[39m\u001b[38;5;124m'\u001b[39m\u001b[38;5;124mitems\u001b[39m\u001b[38;5;124m'\u001b[39m)\n\u001b[1;32m      3\u001b[0m fs_vd\n",
      "\u001b[0;31mNameError\u001b[0m: name 'fs_c' is not defined"
     ]
    }
   ],
   "source": [
    "fs_v.update(fs_v.pop(\"response\"))\n",
    "fs_vd = json_normalize(fs_c['groups'],record_path='items')\n",
    "fs_vd"
   ]
  },
  {
   "cell_type": "code",
   "execution_count": 14,
   "id": "2554a588-e9d8-4e0a-a970-2787bbc2f837",
   "metadata": {},
   "outputs": [
    {
     "ename": "NameError",
     "evalue": "name 'fs_vd' is not defined",
     "output_type": "error",
     "traceback": [
      "\u001b[0;31m---------------------------------------------------------------------------\u001b[0m",
      "\u001b[0;31mNameError\u001b[0m                                 Traceback (most recent call last)",
      "Input \u001b[0;32mIn [14]\u001b[0m, in \u001b[0;36m<cell line: 3>\u001b[0;34m()\u001b[0m\n\u001b[1;32m      1\u001b[0m cols \u001b[38;5;241m=\u001b[39m [\u001b[38;5;124m\"\u001b[39m\u001b[38;5;124mvenue.name\u001b[39m\u001b[38;5;124m\"\u001b[39m,\u001b[38;5;124m\"\u001b[39m\u001b[38;5;124mvenue.location.address\u001b[39m\u001b[38;5;124m\"\u001b[39m,\u001b[38;5;124m\"\u001b[39m\u001b[38;5;124mvenue.location.postalCode\u001b[39m\u001b[38;5;124m\"\u001b[39m,\u001b[38;5;124m\"\u001b[39m\u001b[38;5;124mvenue.location.lat\u001b[39m\u001b[38;5;124m\"\u001b[39m,\u001b[38;5;124m\"\u001b[39m\u001b[38;5;124mvenue.location.lng\u001b[39m\u001b[38;5;124m\"\u001b[39m]\n\u001b[0;32m----> 3\u001b[0m df_fvancoffee \u001b[38;5;241m=\u001b[39m \u001b[43mfs_vd\u001b[49m[cols]\n\u001b[1;32m      4\u001b[0m df_fvancoffee \u001b[38;5;241m=\u001b[39m df_fvancoffee\u001b[38;5;241m.\u001b[39mrename(columns\u001b[38;5;241m=\u001b[39m{\n\u001b[1;32m      5\u001b[0m         \u001b[38;5;124m\"\u001b[39m\u001b[38;5;124mvenue.name\u001b[39m\u001b[38;5;124m\"\u001b[39m: \u001b[38;5;124m\"\u001b[39m\u001b[38;5;124mname\u001b[39m\u001b[38;5;124m\"\u001b[39m,\n\u001b[1;32m      6\u001b[0m         \u001b[38;5;124m\"\u001b[39m\u001b[38;5;124mvenue.location.address\u001b[39m\u001b[38;5;124m\"\u001b[39m: \u001b[38;5;124m\"\u001b[39m\u001b[38;5;124maddress\u001b[39m\u001b[38;5;124m\"\u001b[39m,\n\u001b[0;32m   (...)\u001b[0m\n\u001b[1;32m      9\u001b[0m         \u001b[38;5;124m\"\u001b[39m\u001b[38;5;124mvenue.location.lng\u001b[39m\u001b[38;5;124m\"\u001b[39m: \u001b[38;5;124m\"\u001b[39m\u001b[38;5;124mlongitude\u001b[39m\u001b[38;5;124m\"\u001b[39m,\n\u001b[1;32m     10\u001b[0m })\n\u001b[1;32m     11\u001b[0m df_fvancoffee\u001b[38;5;241m.\u001b[39mhead(\u001b[38;5;241m10\u001b[39m)\n",
      "\u001b[0;31mNameError\u001b[0m: name 'fs_vd' is not defined"
     ]
    }
   ],
   "source": [
    "cols = [\"venue.name\",\"venue.location.address\",\"venue.location.postalCode\",\"venue.location.lat\",\"venue.location.lng\"]\n",
    "\n",
    "df_fvancoffee = fs_vd[cols]\n",
    "df_fvancoffee = df_fvancoffee.rename(columns={\n",
    "        \"venue.name\": \"name\",\n",
    "        \"venue.location.address\": \"address\",\n",
    "        \"venue.location.postalCode\": \"zip_code\",\n",
    "        \"venue.location.lat\": \"latitude\",\n",
    "        \"venue.location.lng\": \"longitude\",\n",
    "})\n",
    "df_fvancoffee.head(10)"
   ]
  },
  {
   "cell_type": "code",
   "execution_count": 43,
   "id": "5f95c53a-ca94-47dd-9ca4-9a01fc4458f8",
   "metadata": {},
   "outputs": [],
   "source": [
    "df_fvancoffee = pd.DataFrame(fs_vd)\n",
    "df_fvancoffee.to_csv('fsvancoffee.csv')"
   ]
  },
  {
   "cell_type": "code",
   "execution_count": 15,
   "id": "1cd4a344-3f03-43a1-81b6-ff1cf0ef5400",
   "metadata": {},
   "outputs": [
    {
     "ename": "NameError",
     "evalue": "name 'df_fvancoffee' is not defined",
     "output_type": "error",
     "traceback": [
      "\u001b[0;31m---------------------------------------------------------------------------\u001b[0m",
      "\u001b[0;31mNameError\u001b[0m                                 Traceback (most recent call last)",
      "Input \u001b[0;32mIn [15]\u001b[0m, in \u001b[0;36m<cell line: 1>\u001b[0;34m()\u001b[0m\n\u001b[0;32m----> 1\u001b[0m \u001b[43mdf_fvancoffee\u001b[49m\u001b[38;5;241m.\u001b[39mhead(\u001b[38;5;241m5\u001b[39m)\n",
      "\u001b[0;31mNameError\u001b[0m: name 'df_fvancoffee' is not defined"
     ]
    }
   ],
   "source": [
    "df_fvancoffee.head(5)"
   ]
  },
  {
   "cell_type": "code",
   "execution_count": 28,
   "id": "cc40150e-6a9e-4faf-8354-2eda5c4e2090",
   "metadata": {},
   "outputs": [],
   "source": [
    "import sqlite3 as sqlite\n",
    "from sqlalchemy import create_engine\n",
    "import sqlalchemy as db"
   ]
  },
  {
   "cell_type": "code",
   "execution_count": 32,
   "id": "643b5d63-d3cb-4680-9246-c329680bb592",
   "metadata": {},
   "outputs": [],
   "source": [
    "con = create_engine('sqlite:///coffee1.db')\n"
   ]
  },
  {
   "cell_type": "code",
   "execution_count": 33,
   "id": "05b46279-3be5-42ff-a622-204b2903a337",
   "metadata": {},
   "outputs": [
    {
     "data": {
      "text/plain": [
       "50"
      ]
     },
     "execution_count": 33,
     "metadata": {},
     "output_type": "execute_result"
    }
   ],
   "source": [
    "df_fvancoffee.to_sql('f_van_coffee', con)"
   ]
  },
  {
   "cell_type": "code",
   "execution_count": 34,
   "id": "1b9ef2c0-f12f-49ad-8a7e-5237d868f2ea",
   "metadata": {},
   "outputs": [
    {
     "data": {
      "text/html": [
       "<div>\n",
       "<style scoped>\n",
       "    .dataframe tbody tr th:only-of-type {\n",
       "        vertical-align: middle;\n",
       "    }\n",
       "\n",
       "    .dataframe tbody tr th {\n",
       "        vertical-align: top;\n",
       "    }\n",
       "\n",
       "    .dataframe thead th {\n",
       "        text-align: right;\n",
       "    }\n",
       "</style>\n",
       "<table border=\"1\" class=\"dataframe\">\n",
       "  <thead>\n",
       "    <tr style=\"text-align: right;\">\n",
       "      <th></th>\n",
       "      <th>type</th>\n",
       "      <th>name</th>\n",
       "      <th>tbl_name</th>\n",
       "      <th>rootpage</th>\n",
       "      <th>sql</th>\n",
       "    </tr>\n",
       "  </thead>\n",
       "  <tbody>\n",
       "    <tr>\n",
       "      <th>0</th>\n",
       "      <td>table</td>\n",
       "      <td>f_van_coffee</td>\n",
       "      <td>f_van_coffee</td>\n",
       "      <td>2</td>\n",
       "      <td>CREATE TABLE f_van_coffee (\\n\\t\"index\" BIGINT,...</td>\n",
       "    </tr>\n",
       "    <tr>\n",
       "      <th>1</th>\n",
       "      <td>index</td>\n",
       "      <td>ix_f_van_coffee_index</td>\n",
       "      <td>f_van_coffee</td>\n",
       "      <td>3</td>\n",
       "      <td>CREATE INDEX ix_f_van_coffee_index ON f_van_co...</td>\n",
       "    </tr>\n",
       "  </tbody>\n",
       "</table>\n",
       "</div>"
      ],
      "text/plain": [
       "    type                   name      tbl_name  rootpage  \\\n",
       "0  table           f_van_coffee  f_van_coffee         2   \n",
       "1  index  ix_f_van_coffee_index  f_van_coffee         3   \n",
       "\n",
       "                                                 sql  \n",
       "0  CREATE TABLE f_van_coffee (\\n\\t\"index\" BIGINT,...  \n",
       "1  CREATE INDEX ix_f_van_coffee_index ON f_van_co...  "
      ]
     },
     "execution_count": 34,
     "metadata": {},
     "output_type": "execute_result"
    }
   ],
   "source": [
    "pd.read_sql_query('select * from sqlite_master', con)"
   ]
  },
  {
   "cell_type": "code",
   "execution_count": 17,
   "id": "a1521fe5-6822-44a1-82b3-698069f07d85",
   "metadata": {},
   "outputs": [
    {
     "ename": "NameError",
     "evalue": "name 'df_fvancoffee' is not defined",
     "output_type": "error",
     "traceback": [
      "\u001b[0;31m---------------------------------------------------------------------------\u001b[0m",
      "\u001b[0;31mNameError\u001b[0m                                 Traceback (most recent call last)",
      "Input \u001b[0;32mIn [17]\u001b[0m, in \u001b[0;36m<cell line: 1>\u001b[0;34m()\u001b[0m\n\u001b[0;32m----> 1\u001b[0m df_fv \u001b[38;5;241m=\u001b[39m \u001b[43mdf_fvancoffee\u001b[49m\n",
      "\u001b[0;31mNameError\u001b[0m: name 'df_fvancoffee' is not defined"
     ]
    }
   ],
   "source": [
    "df_fv = df_fvancoffee"
   ]
  },
  {
   "cell_type": "code",
   "execution_count": 16,
   "id": "1706d334-ed3b-4da3-afe5-c3c88a20b259",
   "metadata": {},
   "outputs": [
    {
     "ename": "NameError",
     "evalue": "name 'df_fv' is not defined",
     "output_type": "error",
     "traceback": [
      "\u001b[0;31m---------------------------------------------------------------------------\u001b[0m",
      "\u001b[0;31mNameError\u001b[0m                                 Traceback (most recent call last)",
      "Input \u001b[0;32mIn [16]\u001b[0m, in \u001b[0;36m<cell line: 1>\u001b[0;34m()\u001b[0m\n\u001b[0;32m----> 1\u001b[0m \u001b[43mdf_fv\u001b[49m\u001b[38;5;241m.\u001b[39mhead(\u001b[38;5;241m10\u001b[39m)\n",
      "\u001b[0;31mNameError\u001b[0m: name 'df_fv' is not defined"
     ]
    }
   ],
   "source": [
    "df_fv.head(10)"
   ]
  },
  {
   "cell_type": "code",
   "execution_count": null,
   "id": "7979869f-fb0d-4750-a4c1-d3f2d5f47281",
   "metadata": {},
   "outputs": [],
   "source": []
  },
  {
   "cell_type": "code",
   "execution_count": null,
   "id": "b66677ed-b242-4b4b-8a79-f1a45786a0dc",
   "metadata": {},
   "outputs": [],
   "source": []
  },
  {
   "cell_type": "code",
   "execution_count": null,
   "id": "47bdac24-e66b-40a7-8799-1ac40f47de53",
   "metadata": {},
   "outputs": [],
   "source": []
  },
  {
   "cell_type": "code",
   "execution_count": null,
   "id": "26d8251f-8f28-4bd5-8e61-7a75cca185e0",
   "metadata": {},
   "outputs": [],
   "source": []
  },
  {
   "cell_type": "code",
   "execution_count": null,
   "id": "13b8ecff-34e4-4367-9ea1-a896462b6f65",
   "metadata": {},
   "outputs": [],
   "source": []
  }
 ],
 "metadata": {
  "kernelspec": {
   "display_name": "Python 3 (ipykernel)",
   "language": "python",
   "name": "python3"
  },
  "language_info": {
   "codemirror_mode": {
    "name": "ipython",
    "version": 3
   },
   "file_extension": ".py",
   "mimetype": "text/x-python",
   "name": "python",
   "nbconvert_exporter": "python",
   "pygments_lexer": "ipython3",
   "version": "3.9.13"
  }
 },
 "nbformat": 4,
 "nbformat_minor": 5
}
